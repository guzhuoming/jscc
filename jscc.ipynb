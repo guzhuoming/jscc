{
 "cells": [
  {
   "cell_type": "code",
   "execution_count": 14,
   "metadata": {
    "collapsed": false
   },
   "outputs": [
    {
     "name": "stdout",
     "output_type": "stream",
     "text": [
      "帧数： 16000\n",
      "声道数： 1\n",
      "帧速率： 16000\n",
      "实例的比特宽度，即每一帧的字节数 2\n"
     ]
    },
    {
     "data": {
      "image/png": "[encoded data removed]",
      "text/plain": [
       "<matplotlib.figure.Figure at 0x1eb02fc7e80>"
      ]
     },
     "metadata": {},
     "output_type": "display_data"
    },
    {
     "name": "stdout",
     "output_type": "stream",
     "text": [
      "[ 0.51364299  0.51301812  0.51301812 ...,  0.51801708  0.51739221\n",
      "  0.51864195]\n",
      "Training epoch:  1 loss =  0.00783627\n",
      "Training epoch:  2 loss =  0.0342863\n",
      "Training epoch:  3 loss =  0.00410604\n",
      "Training epoch:  4 loss =  0.00470531\n",
      "Training epoch:  5 loss =  0.00313349\n",
      "Training epoch:  6 loss =  0.00218185\n",
      "Training epoch:  7 loss =  0.00130103\n",
      "Training epoch:  8 loss =  0.000816585\n",
      "Training epoch:  9 loss =  0.000785452\n",
      "Training epoch:  10 loss =  0.00103775\n",
      "Training epoch:  11 loss =  0.00131676\n",
      "Training epoch:  12 loss =  0.00141696\n",
      "Training epoch:  13 loss =  0.00127143\n",
      "Training epoch:  14 loss =  0.000958191\n",
      "Training epoch:  15 loss =  0.000633247\n",
      "Training epoch:  16 loss =  0.000433508\n",
      "Training epoch:  17 loss =  0.000403518\n",
      "Training epoch:  18 loss =  0.000485536\n",
      "Training epoch:  19 loss =  0.000572417\n",
      "Training epoch:  20 loss =  0.000580655\n",
      "Training epoch:  21 loss =  0.000494238\n",
      "Training epoch:  22 loss =  0.000359478\n",
      "Training epoch:  23 loss =  0.000244595\n",
      "Training epoch:  24 loss =  0.000194637\n",
      "Training epoch:  25 loss =  0.000209025\n",
      "Training epoch:  26 loss =  0.000250476\n",
      "Training epoch:  27 loss =  0.000274004\n",
      "Training epoch:  28 loss =  0.000255253\n",
      "Training epoch:  29 loss =  0.000201593\n",
      "Training epoch:  30 loss =  0.000142094\n",
      "**************************最终结果****************************************\n",
      "mse:  3275.21\n"
     ]
    },
    {
     "data": {
      "image/png": "[encoded data removed]",
      "text/plain": [
       "<matplotlib.figure.Figure at 0x1eb04b60550>"
      ]
     },
     "metadata": {},
     "output_type": "display_data"
    },
    {
     "name": "stdout",
     "output_type": "stream",
     "text": [
      "音频重建生成\n"
     ]
    }
   ],
   "source": [
    "import wave\n",
    "import numpy as np\n",
    "np.random.seed(1337)  # for reproducibility\n",
    "import math\n",
    "from keras.models import Model\n",
    "from keras.layers import Dense, Input\n",
    "import matplotlib.pyplot as plt\n",
    "import tensorflow as tf\n",
    "\n",
    "filename = './speech/bed/00f0204f_nohash_0.wav'\n",
    "def read_wav_data(filename):\n",
    "    '''\n",
    "        读取一个wav文件，返回声音信号的时域谱矩阵和播放时间\n",
    "    '''\n",
    "    wav = wave.open(filename,\"rb\") # 打开一个wav格式的声音文件流\n",
    "    num_frame = wav.getnframes() # 获取帧数\n",
    "    print('帧数：',num_frame)\n",
    "    num_channel=wav.getnchannels() # 获取声道数\n",
    "    print('声道数：',num_channel)\n",
    "    framerate=wav.getframerate() # 获取帧速率\n",
    "    print('帧速率：',framerate)\n",
    "    num_sample_width=wav.getsampwidth() # 获取实例的比特宽度，即每一帧的字节数\n",
    "    print('实例的比特宽度，即每一帧的字节数',num_sample_width)\n",
    "    str_data = wav.readframes(num_frame) # 读取全部的帧\n",
    "    wav.close() # 关闭流\n",
    "    wave_data = np.fromstring(str_data, dtype = np.short) # 将声音文件数据转换为数组矩阵形式\n",
    "    wave_data.shape = -1, num_channel # 按照声道数将数组整形，单声道时候是一列数组，双声道时候是两列的矩阵\n",
    "    wave_data = wave_data.T # 将矩阵转置\n",
    "    return wave_data, framerate, num_frame, num_channel, num_sample_width, str_data\n",
    "def wav_show(wave_data, fs): # 显示出来声音波形\n",
    "    time = np.arange(0, len(wave_data)) * (1.0/fs)  # 计算声音的播放时间，单位为秒\n",
    "    # 画声音波形\n",
    "    plt.plot(time, wave_data) \n",
    "    plt.title('Original wave')\n",
    "    plt.show()  \n",
    "def minmax_norm(x):\n",
    "    x = (x-min(x))/(max(x)-min(x))\n",
    "    print(x)\n",
    "    return x\n",
    "#生成重建的wav\n",
    "def Generate_Wav(filename, wave_data, framerate, num_frame, num_channel, num_sample_width):\n",
    "    \n",
    "    wave_data = wave_data.astype(np.short)\n",
    "    #open a wav document\n",
    "    f = wave.open(filename,\"wb\")\n",
    "    #set wav params\n",
    "    f.setnchannels(num_channel)\n",
    "    f.setsampwidth(num_sample_width)\n",
    "    f.setframerate(framerate)\n",
    "    f.setnframes(num_frame)\n",
    "    #turn the data to string\n",
    "    f.writeframes(wave_data.tostring())\n",
    "    f.close()\n",
    "\n",
    "    \n",
    "wave_data, fs, num_frame, num_channel, num_sample_width, str_data = read_wav_data(filename)  \n",
    "wav_show(wave_data[0],fs)\n",
    "wave_data=wave_data[0]\n",
    "    \n",
    "# data pre-processing\n",
    "# x_train = wave_data.astype('float32') + max(wave_data)   # minmax_normalized\n",
    "xmax = max(wave_data)\n",
    "xmin = min(wave_data)\n",
    "x_train = minmax_norm(wave_data)\n",
    "#print((x_train))\n",
    "\n",
    "#x_train = 10*[x_train]\n",
    "# Hyper Parameters\n",
    "train_epochs = 30 # 训练轮数\n",
    "BATCH_SIZE = 64\n",
    "LR = 0.05         # learning rate\n",
    "# tf placeholder\n",
    "tf_x = tf.placeholder(tf.float32, [None, 16000])    # value in the range of (0, 1)\n",
    "\n",
    "# encoder\n",
    "encode1 = tf.layers.dense(tf_x, 1600,tf.nn.sigmoid)\n",
    "encode2 = tf.layers.dense(encode1,800,tf.nn.sigmoid)\n",
    "encode3 = tf.layers.dense(encode2,400,tf.nn.sigmoid)\n",
    "encoded = tf.layers.dense(encode3,160,tf.nn.sigmoid)\n",
    "\n",
    "\n",
    "\n",
    "# decoder\n",
    "decode1 = tf.layers.dense(encoded, 400, tf.nn.sigmoid)\n",
    "decode2 = tf.layers.dense(decode1, 800, tf.nn.sigmoid)\n",
    "decoded = tf.layers.dense(decode2, 16000, tf.nn.sigmoid)\n",
    "loss = tf.reduce_mean(tf.square(tf_x - decoded))\n",
    "train = tf.train.AdamOptimizer(LR).minimize(loss)\n",
    "sess = tf.Session()\n",
    "init = tf.global_variables_initializer()\n",
    "sess.run(init)\n",
    "\n",
    "for epoch in range(train_epochs):\n",
    "    \n",
    "    # AWGN信道\n",
    "    noise = tf.random_normal([160],mean=0,stddev=100,dtype=tf.float32,seed=None,name=None)\n",
    "    encoded = tf.add(encoded,noise,name = 'encoded')\n",
    "    \n",
    "    _, loss_, ecoded_, decoded_=(sess.run([train, loss, encoded, decoded], {tf_x:[x_train]}))\n",
    "    print('Training epoch: ',epoch+1, 'loss = ', loss_)\n",
    "    \n",
    "print('**************************最终结果****************************************')\n",
    "decoded_=decoded_[0]\n",
    "decoded_ = decoded_*(xmax-xmin)+xmin # denormalized\n",
    "mse = np.mean(pow(abs(wave_data-decoded_),2))\n",
    "print('mse: ',mse)\n",
    "plt.plot(decoded_)\n",
    "plt.show()\n",
    "plt.title('Reconstructed wave')\n",
    "filename = './reconstruct_bed.wav'\n",
    "Generate_Wav(filename, decoded_, fs, num_frame, num_channel, num_sample_width )\n",
    "print('音频重建生成')"
   ]
  }
 ],
 "metadata": {
  "kernelspec": {
   "display_name": "Python 3",
   "language": "python",
   "name": "python3"
  },
  "language_info": {
   "codemirror_mode": {
    "name": "ipython",
    "version": 3
   },
   "file_extension": ".py",
   "mimetype": "text/x-python",
   "name": "python",
   "nbconvert_exporter": "python",
   "pygments_lexer": "ipython3",
   "version": "3.6.0"
  }
 },
 "nbformat": 4,
 "nbformat_minor": 2
}
