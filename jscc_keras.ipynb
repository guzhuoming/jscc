{
 "cells": [
  {
   "cell_type": "code",
   "execution_count": 2,
   "metadata": {
    "collapsed": false
   },
   "outputs": [
    {
     "name": "stdout",
     "output_type": "stream",
     "text": [
      "帧数： 16000\n",
      "声道数： 1\n",
      "帧速率： 16000\n",
      "实例的比特宽度，即每一帧的字节数 2\n"
     ]
    },
    {
     "data": {
      "image/png": "[encoded data removed]",
      "text/plain": [
       "<matplotlib.figure.Figure at 0x1d26dadafd0>"
      ]
     },
     "metadata": {},
     "output_type": "display_data"
    },
    {
     "name": "stdout",
     "output_type": "stream",
     "text": [
      "[ 0.51364299  0.51301812  0.51301812 ...,  0.51801708  0.51739221\n",
      "  0.51864195]\n",
      "_________________________________________________________________\n",
      "Layer (type)                 Output Shape              Param #   \n",
      "=================================================================\n",
      "input_2 (InputLayer)         (None, 16000)             0         \n",
      "_________________________________________________________________\n",
      "dense_5 (Dense)              (None, 1600)              25601600  \n",
      "_________________________________________________________________\n",
      "dense_6 (Dense)              (None, 160)               256160    \n",
      "_________________________________________________________________\n",
      "dense_7 (Dense)              (None, 1600)              257600    \n",
      "_________________________________________________________________\n",
      "dense_8 (Dense)              (None, 16000)             25616000  \n",
      "=================================================================\n",
      "Total params: 51,731,360\n",
      "Trainable params: 51,731,360\n",
      "Non-trainable params: 0\n",
      "_________________________________________________________________\n"
     ]
    },
    {
     "name": "stderr",
     "output_type": "stream",
     "text": [
      "C:\\Users\\86158\\Anaconda3\\lib\\site-packages\\ipykernel\\__main__.py:77: UserWarning: Update your `Model` call to the Keras 2 API: `Model(inputs=Tensor(\"in..., outputs=Tensor(\"de...)`\n"
     ]
    },
    {
     "name": "stdout",
     "output_type": "stream",
     "text": [
      "Epoch 1/20\n",
      "1/1 [==============================] - 3s 3s/step - loss: 0.0091\n",
      "Epoch 2/20\n",
      "1/1 [==============================] - 1s 990ms/step - loss: 0.0059\n",
      "Epoch 3/20\n",
      "1/1 [==============================] - 1s 991ms/step - loss: 0.0024\n",
      "Epoch 4/20\n",
      "1/1 [==============================] - 1s 1s/step - loss: 0.0013\n",
      "Epoch 5/20\n",
      "1/1 [==============================] - 1s 1s/step - loss: 0.0015\n",
      "Epoch 6/20\n",
      "1/1 [==============================] - 1s 1s/step - loss: 0.0012\n",
      "Epoch 7/20\n",
      "1/1 [==============================] - 1s 1s/step - loss: 8.6647e-04\n",
      "Epoch 8/20\n",
      "1/1 [==============================] - 1s 1s/step - loss: 6.2094e-04\n",
      "Epoch 9/20\n",
      "1/1 [==============================] - 1s 1s/step - loss: 4.4159e-04\n",
      "Epoch 10/20\n",
      "1/1 [==============================] - 1s 1s/step - loss: 4.0336e-04\n",
      "Epoch 11/20\n",
      "1/1 [==============================] - 1s 1s/step - loss: 3.9994e-04\n",
      "Epoch 12/20\n",
      "1/1 [==============================] - 1s 1s/step - loss: 3.6824e-04\n",
      "Epoch 13/20\n",
      "1/1 [==============================] - 1s 1s/step - loss: 3.2632e-04\n",
      "Epoch 14/20\n",
      "1/1 [==============================] - 1s 991ms/step - loss: 2.6957e-04\n",
      "Epoch 15/20\n",
      "1/1 [==============================] - 1s 1s/step - loss: 2.1149e-04\n",
      "Epoch 16/20\n",
      "1/1 [==============================] - 1s 1s/step - loss: 1.7517e-04\n",
      "Epoch 17/20\n",
      "1/1 [==============================] - 1s 1s/step - loss: 1.5524e-04\n",
      "Epoch 18/20\n",
      "1/1 [==============================] - 1s 982ms/step - loss: 1.4493e-04\n",
      "Epoch 19/20\n",
      "1/1 [==============================] - 1s 968ms/step - loss: 1.3906e-04\n",
      "Epoch 20/20\n",
      "1/1 [==============================] - 1s 969ms/step - loss: 1.3174e-04\n",
      "**************************最终结果****************************************\n",
      "<class 'numpy.ndarray'>\n",
      "mse:  2760.27\n",
      "[ 11.2722168   -4.52685547  12.03149414 ..., -42.67236328   2.78515625\n",
      "  71.83666992]\n"
     ]
    },
    {
     "data": {
      "image/png": "[encoded data removed]",
      "text/plain": [
       "<matplotlib.figure.Figure at 0x1d26dce00f0>"
      ]
     },
     "metadata": {},
     "output_type": "display_data"
    },
    {
     "name": "stdout",
     "output_type": "stream",
     "text": [
      "音频重建生成\n"
     ]
    }
   ],
   "source": [
    "import wave\n",
    "import numpy as np\n",
    "np.random.seed(1337)  # for reproducibility\n",
    "import math\n",
    "import keras\n",
    "from keras.models import Model\n",
    "from keras.layers import Dense, Input\n",
    "import matplotlib.pyplot as plt\n",
    "import tensorflow as tf\n",
    "\n",
    "filename = './speech/bed/00f0204f_nohash_0.wav'\n",
    "def read_wav_data(filename):\n",
    "    '''\n",
    "        读取一个wav文件，返回声音信号的时域谱矩阵和播放时间\n",
    "    '''\n",
    "    wav = wave.open(filename,\"rb\") # 打开一个wav格式的声音文件流\n",
    "    num_frame = wav.getnframes() # 获取帧数\n",
    "    print('帧数：',num_frame)\n",
    "    num_channel=wav.getnchannels() # 获取声道数\n",
    "    print('声道数：',num_channel)\n",
    "    framerate=wav.getframerate() # 获取帧速率\n",
    "    print('帧速率：',framerate)\n",
    "    num_sample_width=wav.getsampwidth() # 获取实例的比特宽度，即每一帧的字节数\n",
    "    print('实例的比特宽度，即每一帧的字节数',num_sample_width)\n",
    "    str_data = wav.readframes(num_frame) # 读取全部的帧\n",
    "    wav.close() # 关闭流\n",
    "    wave_data = np.fromstring(str_data, dtype = np.short) # 将声音文件数据转换为数组矩阵形式\n",
    "    wave_data.shape = -1, num_channel # 按照声道数将数组整形，单声道时候是一列数组，双声道时候是两列的矩阵\n",
    "    wave_data = wave_data.T # 将矩阵转置\n",
    "    return wave_data, framerate, num_frame, num_channel, num_sample_width, str_data\n",
    "def wav_show(wave_data, fs): # 显示出来声音波形\n",
    "    time = np.arange(0, len(wave_data)) * (1.0/fs)  # 计算声音的播放时间，单位为秒\n",
    "    # 画声音波形\n",
    "    plt.plot(time, wave_data) \n",
    "    plt.title('Original wave')\n",
    "    plt.show()  \n",
    "def minmax_norm(x):\n",
    "    x = (x-min(x))/(max(x)-min(x))\n",
    "    print(x)\n",
    "    return x\n",
    "#生成重建的wav\n",
    "def Generate_Wav(filename, wave_data, framerate, num_frame, num_channel, num_sample_width):\n",
    "    \n",
    "    wave_data = wave_data.astype(np.short)\n",
    "    #open a wav document\n",
    "    f = wave.open(filename,\"wb\")\n",
    "    #set wav params\n",
    "    f.setnchannels(num_channel)\n",
    "    f.setsampwidth(num_sample_width)\n",
    "    f.setframerate(framerate)\n",
    "    f.setnframes(num_frame)\n",
    "    #turn the data to string\n",
    "    f.writeframes(wave_data.tostring())\n",
    "    f.close()\n",
    "\n",
    "    \n",
    "wave_data, fs, num_frame, num_channel, num_sample_width, str_data = read_wav_data(filename)  \n",
    "wav_show(wave_data[0],fs)\n",
    "wave_data=wave_data[0]\n",
    "    \n",
    "# data pre-processing\n",
    "# x_train = wave_data.astype('float32') + max(wave_data)   # minmax_normalized\n",
    "xmax = max(wave_data)\n",
    "xmin = min(wave_data)\n",
    "x_train = minmax_norm(wave_data)\n",
    "x_train = x_train.reshape((1,16000))\n",
    "#print((x_train))\n",
    "\n",
    "x_train_noisy = x_train + np.random.normal(loc = 0, scale = 1., size = x_train.shape)\n",
    "# x_train_noisy = np.clip(x_train_noisy, 0., 1.)\n",
    "input_wave = Input(shape = (16000,))\n",
    "encode1 = Dense(1600, activation = 'relu')(input_wave)\n",
    "encoded = Dense(160, activation = 'relu')(encode1)\n",
    "decode1 = Dense(1600, activation = 'sigmoid')(encoded)\n",
    "decoded = Dense(16000, activation = 'sigmoid')(decode1)\n",
    "\n",
    "autoencoder = Model(input = input_wave, output = decoded)\n",
    "\n",
    "autoencoder.compile(optimizer = 'adam', loss = 'mse')\n",
    "autoencoder.summary()\n",
    "\n",
    "autoencoder.fit(x_train_noisy, x_train, epochs = 20)\n",
    "print('**************************最终结果****************************************')\n",
    "decoded = autoencoder.predict(x_train_noisy)[0]\n",
    "print(type(decoded))\n",
    "decoded = decoded*(xmax-xmin)+xmin # denormalized\n",
    "mse = np.mean(pow(abs(wave_data-decoded),2))\n",
    "print('mse: ',mse)\n",
    "print(decoded)\n",
    "plt.plot(decoded)\n",
    "plt.show()\n",
    "plt.title('Reconstructed wave')\n",
    "filename = './reconstruct_bed.wav'\n",
    "Generate_Wav(filename, decoded, fs, num_frame, num_channel, num_sample_width )\n",
    "print('音频重建生成')"
   ]
  },
  {
   "cell_type": "code",
   "execution_count": null,
   "metadata": {
    "collapsed": true
   },
   "outputs": [],
   "source": []
  }
 ],
 "metadata": {
  "kernelspec": {
   "display_name": "Python 3",
   "language": "python",
   "name": "python3"
  },
  "language_info": {
   "codemirror_mode": {
    "name": "ipython",
    "version": 3
   },
   "file_extension": ".py",
   "mimetype": "text/x-python",
   "name": "python",
   "nbconvert_exporter": "python",
   "pygments_lexer": "ipython3",
   "version": "3.6.0"
  }
 },
 "nbformat": 4,
 "nbformat_minor": 2
}
